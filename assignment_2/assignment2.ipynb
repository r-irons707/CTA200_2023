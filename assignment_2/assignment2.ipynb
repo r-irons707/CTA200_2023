{
 "cells": [
  {
   "cell_type": "code",
   "execution_count": 1,
   "id": "25f4647c",
   "metadata": {},
   "outputs": [],
   "source": [
    "import numpy as np"
   ]
  },
  {
   "cell_type": "markdown",
   "id": "f77c2caa",
   "metadata": {},
   "source": [
    "### Part 1"
   ]
  },
  {
   "cell_type": "code",
   "execution_count": 2,
   "id": "ce7b0c3a",
   "metadata": {},
   "outputs": [],
   "source": [
    "def f(x):\n",
    "    '''simple function'''\n",
    "    return x**3 - x**2 - 1\n",
    "def df(x):\n",
    "    '''derivative of simple function'''\n",
    "    return 3*x**2 - 2*x"
   ]
  },
  {
   "cell_type": "markdown",
   "id": "c794c013",
   "metadata": {},
   "source": [
    "### Part 2"
   ]
  },
  {
   "cell_type": "code",
   "execution_count": 3,
   "id": "536ff61b",
   "metadata": {},
   "outputs": [],
   "source": [
    "def newton(f, df, x0, epsilon=1e-6, max_iter=30):\n",
    "    '''performs a newton iteration given a function'''\n",
    "    x = np.ones(max_iter)\n",
    "    x[0], roots = x0, []\n",
    "    for i in range(max_iter-1):\n",
    "        x[i+1] = x[i] - f(x[i])/df(x[i])\n",
    "        if abs(f(x[i+1]))<epsilon:\n",
    "            roots.append(x[i+1])\n",
    "            \n",
    "    if len(roots)!=0:   \n",
    "        print('Found root in',i,'iterations')\n",
    "        return (x[i+1],i)\n",
    "    else:\n",
    "        print('Iteration failed')\n",
    "        return None"
   ]
  },
  {
   "cell_type": "markdown",
   "id": "fe9e45f1",
   "metadata": {},
   "source": [
    "### Part 3"
   ]
  },
  {
   "cell_type": "code",
   "execution_count": 4,
   "id": "a1d763de",
   "metadata": {},
   "outputs": [
    {
     "name": "stdout",
     "output_type": "stream",
     "text": [
      "Found root in 28 iterations\n",
      "(1.4655712318767682, 28)\n"
     ]
    }
   ],
   "source": [
    "root = newton(f,df,10)\n",
    "print(root)"
   ]
  }
 ],
 "metadata": {
  "kernelspec": {
   "display_name": "Python 3 (ipykernel)",
   "language": "python",
   "name": "python3"
  },
  "language_info": {
   "codemirror_mode": {
    "name": "ipython",
    "version": 3
   },
   "file_extension": ".py",
   "mimetype": "text/x-python",
   "name": "python",
   "nbconvert_exporter": "python",
   "pygments_lexer": "ipython3",
   "version": "3.10.2"
  }
 },
 "nbformat": 4,
 "nbformat_minor": 5
}
